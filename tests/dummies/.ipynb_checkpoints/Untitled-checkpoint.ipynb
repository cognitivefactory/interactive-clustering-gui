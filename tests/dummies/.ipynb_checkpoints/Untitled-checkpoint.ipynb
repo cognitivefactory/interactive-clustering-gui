{
 "cells": [
  {
   "cell_type": "code",
   "execution_count": 1,
   "id": "b914ab26",
   "metadata": {},
   "outputs": [],
   "source": [
    "import os\n",
    "import pickle"
   ]
  },
  {
   "cell_type": "code",
   "execution_count": 12,
   "id": "99f0d51e",
   "metadata": {},
   "outputs": [],
   "source": [
    "from r_wnlp.interactive_clustering.constraints.binary import BinaryConstraintsManager as RWNLP_BinaryConstraintsManager\n",
    "from cognitivefactory.interactive_clustering.constraints.binary import BinaryConstraintsManager as COGNITIVEFACTORY_BinaryConstraintsManager"
   ]
  },
  {
   "cell_type": "code",
   "execution_count": 13,
   "id": "8ae6d952",
   "metadata": {
    "scrolled": true
   },
   "outputs": [
    {
     "data": {
      "text/plain": [
       "['.ipynb_checkpoints',\n",
       " '0a_INITIALIZATION_WITHOUT_MODELIZATION',\n",
       " '0b_INITIALIZATION_WITH_PENDING_MODELIZATION',\n",
       " '0c_INITIALIZATION_WITH_WORKING_MODELIZATION',\n",
       " '0d_CLUSTERING_TODO',\n",
       " '0e_CLUSTERING_PENDING',\n",
       " '0f_CLUSTERING_WORKING',\n",
       " '0g_ITERATION_END',\n",
       " '1a_SAMPLING_TODO',\n",
       " '1b_SAMPLING_PENDING',\n",
       " '1c_SAMPLING_WORKING',\n",
       " '1d_ANNOTATION_WITH_UPTODATE_MODELIZATION',\n",
       " '1e_ANNOTATION_WITH_OUTDATED_MODELIZATION_WITHOUT_CONFLICTS',\n",
       " '1f_ANNOTATION_WITH_PENDING_MODELIZATION_WITHOUT_CONFLICTS',\n",
       " '1g_ANNOTATION_WITH_WORKING_MODELIZATION_WITHOUT_CONFLICTS',\n",
       " '1h_ANNOTATION_WITH_OUTDATED_MODELIZATION_WITH_CONFLICTS',\n",
       " '1i_ANNOTATION_WITH_OUTDATED_MODELIZATION_WITH_CONFLICTS',\n",
       " '1j_ANNOTATION_WITH_PENDING_MODELIZATION_WITH_CONFLICTS',\n",
       " '1k_ANNOTATION_WITH_WORKING_MODELIZATION_WITH_CONFLICTS',\n",
       " '1l_ANNOTATION_WITH_UPTODATE_MODELIZATION',\n",
       " '1m_CLUSTERING_TODO',\n",
       " '1n_CLUSTERING_PENDING',\n",
       " '1o_CLUSTERING_WORKING',\n",
       " '1p_ITERATION_END',\n",
       " '2a_SAMPLING_TODO',\n",
       " '2b2_SAMPLING_PENDING',\n",
       " '2b_SAMPLING_PENDING',\n",
       " '2d_ANNOTATION_WITH_UPTODATE_MODELIZATION',\n",
       " 'import_0y0_INITIALIZATION_WITHOUT_MODELIZATION',\n",
       " 'import_0y1_INITIALIZATION_WITH_PENDING_MODELIZATION',\n",
       " 'import_0y2_INITIALIZATION_WITH_WORKING_MODELIZATION',\n",
       " 'import_1w0_IMPORT_AT_SAMPLING_STEP_WITHOUT_MODELIZATION',\n",
       " 'import_1w1_IMPORT_AT_SAMPLING_STEP_WITH_PENDING_MODELIZATION',\n",
       " 'import_1w2_IMPORT_AT_SAMPLING_STEP_WORKING_MODELIZATION',\n",
       " 'import_1x0_IMPORT_AT_ANNOTATION_STEP_WITHOUT_MODELIZATION',\n",
       " 'import_1x1_IMPORT_AT_ANNOTATION_STEP_WITH_PENDING_MODELIZATION',\n",
       " 'import_1x2_IMPORT_AT_ANNOTATION_STEP_WORKING_MODELIZATION',\n",
       " 'import_1y0_IMPORT_AT_CLUSTERING_STEP_WITHOUT_MODELIZATION',\n",
       " 'import_1y1_IMPORT_AT_CLUSTERING_STEP_WITH_PENDING_MODELIZATION',\n",
       " 'import_1y2_IMPORT_AT_CLUSTERING_STEP_WORKING_MODELIZATION',\n",
       " 'import_1z0_IMPORT_AT_ITERATION_END_WITHOUT_MODELIZATION',\n",
       " 'import_1z1_IMPORT_AT_ITERATION_END_WITH_PENDING_MODELIZATION',\n",
       " 'import_1z2_IMPORT_AT_ITERATION_END_WORKING_MODELIZATION',\n",
       " 'import_error_0y1_INITIALIZATION_WITH_PENDING_MODELIZATION',\n",
       " 'import_error_0y3_INITIALIZATION_WITH_ERRORS',\n",
       " 'import_error_1w1_IMPORT_AT_SAMPLING_STEP_WITH_PENDING_MODELIZATION',\n",
       " 'import_error_1w3_IMPORT_AT_SAMPLING_STEP_WITH_ERRORS',\n",
       " 'import_error_1x1_IMPORT_AT_ANNOTATION_STEP_WITH_PENDING_MODELIZATION',\n",
       " 'import_error_1x3_ANNOTATION_WITH_OUTDATED_MODELIZATION_WITH_CONFLICTS',\n",
       " 'import_error_1y1_IMPORT_AT_CLUSTERING_STEP_WITH_PENDING_MODELIZATION',\n",
       " 'import_error_1y3_IMPORT_AT_CLUSTERING_STEP_WITH_ERRORS',\n",
       " 'import_error_1z1_IMPORT_AT_ITERATION_END_WITH_PENDING_MODELIZATION',\n",
       " 'import_error_1z3_IMPORT_AT_ITERATION_END_WITH_ERRORS']"
      ]
     },
     "execution_count": 13,
     "metadata": {},
     "output_type": "execute_result"
    }
   ],
   "source": [
    "list_of_projects = [\n",
    "    project_id\n",
    "    for project_id in os.listdir(\".\")\n",
    "    if os.path.isdir(\".\" + \"/\" + project_id)\n",
    "]\n",
    "list_of_projects"
   ]
  },
  {
   "cell_type": "code",
   "execution_count": 32,
   "id": "9085dbd6",
   "metadata": {},
   "outputs": [
    {
     "name": "stdout",
     "output_type": "stream",
     "text": [
      ">>> 0d_CLUSTERING_TODO\n",
      ">>> 0e_CLUSTERING_PENDING\n",
      ">>> 0f_CLUSTERING_WORKING\n",
      ">>> 0g_ITERATION_END\n",
      ">>> 1a_SAMPLING_TODO\n",
      ">>> 1b_SAMPLING_PENDING\n",
      ">>> 1c_SAMPLING_WORKING\n",
      ">>> 1d_ANNOTATION_WITH_UPTODATE_MODELIZATION\n",
      ">>> 1e_ANNOTATION_WITH_OUTDATED_MODELIZATION_WITHOUT_CONFLICTS\n",
      ">>> 1f_ANNOTATION_WITH_PENDING_MODELIZATION_WITHOUT_CONFLICTS\n",
      ">>> 1g_ANNOTATION_WITH_WORKING_MODELIZATION_WITHOUT_CONFLICTS\n",
      ">>> 1h_ANNOTATION_WITH_OUTDATED_MODELIZATION_WITH_CONFLICTS\n",
      ">>> 1i_ANNOTATION_WITH_OUTDATED_MODELIZATION_WITH_CONFLICTS\n",
      ">>> 1j_ANNOTATION_WITH_PENDING_MODELIZATION_WITH_CONFLICTS\n",
      ">>> 1k_ANNOTATION_WITH_WORKING_MODELIZATION_WITH_CONFLICTS\n",
      ">>> 1l_ANNOTATION_WITH_UPTODATE_MODELIZATION\n",
      ">>> 1m_CLUSTERING_TODO\n",
      ">>> 1n_CLUSTERING_PENDING\n",
      ">>> 1o_CLUSTERING_WORKING\n",
      ">>> 1p_ITERATION_END\n",
      ">>> 2a_SAMPLING_TODO\n",
      ">>> 2b2_SAMPLING_PENDING\n",
      ">>> 2b_SAMPLING_PENDING\n",
      ">>> 2d_ANNOTATION_WITH_UPTODATE_MODELIZATION\n",
      ">>> import_error_0y3_INITIALIZATION_WITH_ERRORS\n",
      ">>> import_error_1w3_IMPORT_AT_SAMPLING_STEP_WITH_ERRORS\n",
      ">>> import_error_1x3_ANNOTATION_WITH_OUTDATED_MODELIZATION_WITH_CONFLICTS\n",
      ">>> import_error_1y3_IMPORT_AT_CLUSTERING_STEP_WITH_ERRORS\n",
      ">>> import_error_1z3_IMPORT_AT_ITERATION_END_WITH_ERRORS\n"
     ]
    }
   ],
   "source": [
    "for project_id in list_of_projects:\n",
    "    \n",
    "    if \"constraints_manager.pkl\" in os.listdir(\".\" + \"/\" + project_id):\n",
    "        print(\">>>\", project_id)\n",
    "        \n",
    "        # Load\n",
    "        with open(\".\" + \"/\" + project_id + \"/\" + \"constraints_manager.pkl\", \"rb\") as constraints_manager_fileobject_load:\n",
    "            rwnlp_constraints_manager = pickle.load(\n",
    "                constraints_manager_fileobject_load\n",
    "            )\n",
    "            \n",
    "        # Translate\n",
    "        cognitivefactory_constraints_manager = COGNITIVEFACTORY_BinaryConstraintsManager(\n",
    "            list_of_data_IDs=rwnlp_constraints_manager.get_list_of_managed_data_IDs()\n",
    "        )\n",
    "        for data_ID1 in rwnlp_constraints_manager._constraints_dictionary.keys():\n",
    "            for data_ID2 in rwnlp_constraints_manager._constraints_dictionary[data_ID1].keys():\n",
    "                if rwnlp_constraints_manager._constraints_dictionary[data_ID1][data_ID2] is not None:\n",
    "                    cognitivefactory_constraints_manager.add_constraint(\n",
    "                        data_ID1=data_ID1,\n",
    "                        data_ID2=data_ID2,\n",
    "                        constraint_type=rwnlp_constraints_manager._constraints_dictionary[data_ID1][data_ID2][0],\n",
    "                        constraint_value=rwnlp_constraints_manager._constraints_dictionary[data_ID1][data_ID2][1]\n",
    "                    )\n",
    "        for data_ID1 in cognitivefactory_constraints_manager._constraints_dictionary.keys():\n",
    "            for data_ID2 in cognitivefactory_constraints_manager._constraints_dictionary[data_ID1].keys():\n",
    "                if (\n",
    "                    rwnlp_constraints_manager._constraints_dictionary[data_ID1][data_ID2]\n",
    "                    != cognitivefactory_constraints_manager._constraints_dictionary[data_ID1][data_ID2]\n",
    "                ):\n",
    "                    print(\n",
    "                        data_ID1,\n",
    "                        data_ID2,\n",
    "                        rwnlp_constraints_manager._constraints_dictionary[data_ID1][data_ID2],\n",
    "                        cognitivefactory_constraints_manager._constraints_dictionary[data_ID1][data_ID2]\n",
    "                    )\n",
    "        if (\n",
    "            rwnlp_constraints_manager._constraints_dictionary\n",
    "            != cognitivefactory_constraints_manager._constraints_dictionary\n",
    "        ):\n",
    "            print(\n",
    "                rwnlp_constraints_manager._constraints_dictionary,\n",
    "                cognitivefactory_constraints_manager._constraints_dictionary\n",
    "            )\n",
    "            \n",
    "        # Store\n",
    "        with open(project_id + \"/\" + \"constraints_manager.pkl\", \"wb\") as constraints_manager_fileobject_dump:\n",
    "            pickle.dump(\n",
    "                cognitivefactory_constraints_manager,\n",
    "                constraints_manager_fileobject_dump,\n",
    "                pickle.HIGHEST_PROTOCOL,\n",
    "            )"
   ]
  },
  {
   "cell_type": "code",
   "execution_count": null,
   "id": "b1d62581",
   "metadata": {},
   "outputs": [],
   "source": []
  }
 ],
 "metadata": {
  "kernelspec": {
   "display_name": "Python 3 (ipykernel)",
   "language": "python",
   "name": "python3"
  },
  "language_info": {
   "codemirror_mode": {
    "name": "ipython",
    "version": 3
   },
   "file_extension": ".py",
   "mimetype": "text/x-python",
   "name": "python",
   "nbconvert_exporter": "python",
   "pygments_lexer": "ipython3",
   "version": "3.8.10"
  }
 },
 "nbformat": 4,
 "nbformat_minor": 5
}
